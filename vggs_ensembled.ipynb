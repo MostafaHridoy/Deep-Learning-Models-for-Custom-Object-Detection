{
  "cells": [
    {
      "cell_type": "code",
      "execution_count": 3,
      "metadata": {
        "id": "OPSan8E5f73t"
      },
      "outputs": [],
      "source": [
        "import os\n",
        "import glob\n",
        "import numpy as np\n",
        "from tensorflow.keras.preprocessing.image import img_to_array, load_img\n",
        "from tensorflow.keras.utils import to_categorical\n",
        "from sklearn.model_selection import train_test_split"
      ]
    },
    {
      "cell_type": "code",
      "execution_count": 4,
      "metadata": {
        "id": "NeAyvW0igErU"
      },
      "outputs": [],
      "source": [
        "dataset_dir = \"/content/vision_transformer\"\n",
        "\n",
        "class_names = [\"Pothole\", \"speedbreaker\"]\n",
        "\n",
        "\n",
        "images = []\n",
        "labels = []\n",
        "\n",
        "\n",
        "for split in [\"train\", \"test\", \"valid\"]:\n",
        "    split_dir = os.path.join(dataset_dir, split)\n",
        "\n",
        "\n",
        "    for class_name in class_names:\n",
        "        class_dir = os.path.join(split_dir, class_name)\n",
        "\n",
        "\n",
        "        image_files = glob.glob(os.path.join(class_dir, \"*.jpg\"))\n",
        "\n",
        "\n",
        "        for image_file in image_files:\n",
        "            img = load_img(image_file, target_size=(224, 224))\n",
        "            img = img_to_array(img)\n",
        "            img = img / 255.0\n",
        "            images.append(img)\n",
        "\n",
        "            label = class_names.index(class_name)\n",
        "            labels.append(label)\n",
        "\n",
        "images = np.array(images)\n",
        "labels = np.array(labels)\n",
        "\n",
        "\n",
        "num_classes = len(class_names)\n",
        "one_hot_labels = to_categorical(labels, num_classes=num_classes)\n",
        "\n",
        "X_train, X_test, y_train, y_test = train_test_split(images, one_hot_labels, test_size=0.2, random_state=42)\n",
        "X_train, X_val, y_train, y_val = train_test_split(X_train, y_train, test_size=0.2, random_state=42)"
      ]
    },
    {
      "cell_type": "code",
      "execution_count": null,
      "metadata": {},
      "outputs": [],
      "source": [
        "import tensorflow as tf\n",
        "from tensorflow.keras.layers import Input, Conv2D, MaxPooling2D, Flatten,Dense\n",
        "from tensorflow.keras.models import Model\n",
        "\n",
        "input_shape=(224,224,3)\n",
        "def create_vgg16():\n",
        "  inputs=Input(input_shape)\n",
        "\n",
        "  #Block 1\n",
        "  x= Conv2D(64,(3,3),activation='relu', padding='same')(inputs)\n",
        "  x= Conv2D(64,(3,3), activation='relu',padding='same')(x)\n",
        "  x= MaxPooling2D((2,2),strides=(2,2))(x)\n",
        "\n",
        "  #Block 2\n",
        "  x= Conv2D(128, (3,3), activation='relu', padding='same')(x)\n",
        "  x= Conv2D(128, (3,3), activation='relu', padding='same')(x)\n",
        "  x= MaxPooling2D((2,2),strides=(2,2))(x)\n",
        "\n",
        "  #Block3\n",
        "  x= Conv2D(256, (3,3), activation='relu', padding='same')(x)\n",
        "  x= Conv2D(256, (3,3), activation='relu', padding='same')(x)\n",
        "  x= Conv2D(256, (3,3), activation='relu', padding='same')(x)\n",
        "  x= MaxPooling2D((2,2),strides=(2,2))(x)\n",
        "\n",
        "  #Block 4\n",
        "  x= Conv2D(512, (3,3),  activation='relu', padding='same')(x)\n",
        "  x= Conv2D(512, (3,3), activation='relu', padding='same')(x)\n",
        "  x= Conv2D(512, (3,3), activation='relu', padding='same')(x)\n",
        "  x= MaxPooling2D((2,2), strides=(2,2))(x)\n",
        "\n",
        "  # Block 5\n",
        "  x = Conv2D(512, (3, 3), activation='relu', padding='same')(x)\n",
        "  x = Conv2D(512, (3, 3), activation='relu', padding='same')(x)\n",
        "  x = Conv2D(512, (3, 3), activation='relu', padding='same')(x)\n",
        "  x = MaxPooling2D((2, 2), strides=(2, 2))(x)\n",
        "\n",
        "  #Fully Connected Layers\n",
        "  x= Flatten()(x)\n",
        "  x= Dense(4096, activation='relu')(x)\n",
        "  x= Dense(4096, activation='relu')(x)\n",
        "\n",
        "  # Output layer for our classes (2 classes: Pothole and speedbreaker)\n",
        "  outputs= Dense(2, activation='softmax')(x)\n",
        "\n",
        "  #Creating the model\n",
        "  model= Model(inputs, outputs)\n",
        "\n",
        "  return model\n"
      ]
    },
    {
      "cell_type": "code",
      "execution_count": null,
      "metadata": {},
      "outputs": [],
      "source": [
        "vgg16_model = create_vgg16()\n",
        "\n",
        "vgg16_model.compile(optimizer='adam', loss='categorical_crossentropy', metrics=['accuracy'])\n",
        "\n",
        "vgg16_model.fit(X_train, y_train, epochs=50, batch_size=32)\n",
        "\n",
        "vgg16_model.save(\"vgg16.h5\")"
      ]
    },
    {
      "cell_type": "code",
      "execution_count": null,
      "metadata": {},
      "outputs": [],
      "source": [
        "def create_vgg19():\n",
        "  inputs=Input(input_shape)\n",
        "\n",
        "  #Block 1\n",
        "  x= Conv2D(64,(3,3), activation='relu',padding='same')(inputs)#1\n",
        "  x= Conv2D(64,(3,3), activation='relu', padding='same')(x)#2\n",
        "  x= MaxPooling2D((2,2), strides=(2,2))(x)\n",
        "\n",
        "  #Block 2\n",
        "  x= Conv2D(128, (3,3), activation='relu', padding='same')(x)#3\n",
        "  x= BatchNormalization()(x)\n",
        "  x= Conv2D(128, (3,3), activation='relu', padding='same')(x)#4\n",
        "  x= MaxPooling2D((2,2), strides=(2,2))(x)\n",
        "\n",
        "  #Block 3\n",
        "  x= Conv2D(256, (3,3), activation='relu', padding='same')(x)#5\n",
        "  x= Conv2D(256,(3,3), activation='relu', padding='same')(x)#6\n",
        "  x= Conv2D(256, (3,3), activation='relu', padding='same')(x)#7\n",
        "  x= Dropout(0.3)(x)\n",
        "  x= Conv2D(256, (3,3), activation='relu', padding='same')(x)#8\n",
        "  x= MaxPooling2D((2,2), strides=(2,2))(x)\n",
        "\n",
        "  #Block 4\n",
        "  x= Conv2D(512, (3,3), activation='relu', padding='same')(x)#9\n",
        "  x= Conv2D(512, (3,3), activation='relu', padding='same')(x)#10\n",
        "  x= BatchNormalization()(x)\n",
        "  x= Conv2D(512, (3,3), activation='relu', padding='same')(x)#11\n",
        "  x= Dropout(0.2)(x)\n",
        "  x= Conv2D(512, (3,3), activation='relu', padding='same')(x)#12\n",
        "  x= MaxPooling2D((2,2), strides=(2,2))(x)\n",
        "\n",
        "  #Block 5\n",
        "  x= Conv2D(512, (3,3), activation='relu', padding='same')(x)#13\n",
        "  x= Conv2D(512, (3,3), activation='relu', padding='same')(x)#14\n",
        "  x= Dropout(0.1)(x)\n",
        "  x= Conv2D(512, (3,3), activation='relu', padding='same')(x)#15\n",
        "  x= BatchNormalization()(x)\n",
        "  x= Conv2D(512, (3,3), activation='relu', padding='same')(x)#16\n",
        "  x= MaxPooling2D((2,2), strides=(2,2))(x)\n",
        "\n",
        "  #Block 6\n",
        "  x= Flatten()(x)#17\n",
        "  x= Dense(4096, activation='relu')(x)#18\n",
        "  x= Dense(4096, activation='relu')(x)#19\n",
        "\n",
        "  outputs= Dense(2, activation='softmax')(x)\n",
        "\n",
        "  model= Model(inputs, outputs)\n",
        "\n",
        "  return model"
      ]
    },
    {
      "cell_type": "code",
      "execution_count": null,
      "metadata": {},
      "outputs": [],
      "source": [
        "vgg19= create_vgg19()\n",
        "\n",
        "vgg19.summary()\n",
        "\n",
        "vgg19.compile(optimizer='adam', loss='categorical_crossentropy', metrics=['accuracy'])"
      ]
    },
    {
      "cell_type": "code",
      "execution_count": null,
      "metadata": {},
      "outputs": [],
      "source": [
        "vgg19.save('VGG19.h5')"
      ]
    },
    {
      "cell_type": "code",
      "execution_count": 5,
      "metadata": {
        "id": "D2xoreOKgQw0"
      },
      "outputs": [],
      "source": [
        "import tensorflow as tf"
      ]
    },
    {
      "cell_type": "code",
      "execution_count": 6,
      "metadata": {
        "id": "oshdapZngLIN"
      },
      "outputs": [],
      "source": [
        "from tensorflow.keras.models import Model, load_model\n",
        "from tensorflow.keras.layers import Input, Average\n",
        "model_1 = load_model('/content/vgg/VGG19.h5')\n",
        "model_1 = Model(inputs=model_1.inputs,\n",
        "                outputs=model_1.outputs,\n",
        "                name='name_of_model_1')\n",
        "model_2 = load_model('/content/vgg/vgg16.h5')\n",
        "model_2 = Model(inputs=model_2.inputs,\n",
        "                outputs=model_2.outputs,\n",
        "                name='name_of_model_2')\n",
        "models = [model_1, model_2]\n",
        "model_input = Input(shape=(224, 224, 3))\n",
        "model_outputs = [model(model_input) for model in models]\n",
        "ensemble_output = Average()(model_outputs)\n",
        "ensemble_model = Model(inputs=model_input, outputs=ensemble_output, name='ensemble')\n",
        "\n",
        "ensemble_model.compile(optimizer='adam', loss='categorical_crossentropy', metrics=['accuracy'])"
      ]
    },
    {
      "cell_type": "code",
      "execution_count": 16,
      "metadata": {
        "colab": {
          "base_uri": "https://localhost:8080/"
        },
        "id": "jRk3_2GPmHGF",
        "outputId": "77b1e6eb-287c-4876-8d55-bcab30bcc503"
      },
      "outputs": [
        {
          "name": "stdout",
          "output_type": "stream",
          "text": [
            "Model: \"ensemble\"\n",
            "__________________________________________________________________________________________________\n",
            " Layer (type)                Output Shape                 Param #   Connected to                  \n",
            "==================================================================================================\n",
            " input_1 (InputLayer)        [(None, 224, 224, 3)]        0         []                            \n",
            "                                                                                                  \n",
            " name_of_model_1 (Functiona  (None, 2)                    1395830   ['input_1[0][0]']             \n",
            " l)                                                       42                                      \n",
            "                                                                                                  \n",
            " name_of_model_2 (Functiona  (None, 2)                    1342687   ['input_1[0][0]']             \n",
            " l)                                                       38                                      \n",
            "                                                                                                  \n",
            " average (Average)           (None, 2)                    0         ['name_of_model_1[0][0]',     \n",
            "                                                                     'name_of_model_2[0][0]']     \n",
            "                                                                                                  \n",
            "==================================================================================================\n",
            "Total params: 273851780 (1.02 GB)\n",
            "Trainable params: 273849476 (1.02 GB)\n",
            "Non-trainable params: 2304 (9.00 KB)\n",
            "__________________________________________________________________________________________________\n"
          ]
        }
      ],
      "source": [
        "ensemble_model.summary()"
      ]
    },
    {
      "cell_type": "code",
      "execution_count": null,
      "metadata": {
        "colab": {
          "base_uri": "https://localhost:8080/",
          "height": 312
        },
        "id": "FpIZTwBQmDJu",
        "outputId": "57d40d3c-1317-4a17-a390-49e54f359f6a"
      },
      "outputs": [],
      "source": [
        "from tensorflow.keras.utils import plot_model\n",
        "plot_model(ensemble_model, to_file='ensemble_model_structure.png', show_shapes=True, show_layer_names=True)"
      ]
    },
    {
      "cell_type": "code",
      "execution_count": null,
      "metadata": {
        "colab": {
          "base_uri": "https://localhost:8080/"
        },
        "id": "QTBBRhKKgeTk",
        "outputId": "5b05a959-0b89-4bbc-fd75-a4bc0318fc06"
      },
      "outputs": [],
      "source": [
        "ensemble_model.fit(X_train, y_train, epochs=10, batch_size=32)"
      ]
    },
    {
      "cell_type": "code",
      "execution_count": 8,
      "metadata": {
        "id": "4XRCVo45h82c"
      },
      "outputs": [],
      "source": [
        "from sklearn.metrics import confusion_matrix, auc, classification_report, accuracy_score, roc_curve, ConfusionMatrixDisplay\n",
        "import matplotlib.pyplot as plt\n",
        "%matplotlib inline"
      ]
    },
    {
      "cell_type": "code",
      "execution_count": 9,
      "metadata": {
        "colab": {
          "base_uri": "https://localhost:8080/"
        },
        "id": "26-NK0fciqC7",
        "outputId": "1ebcea85-2067-4dea-93b9-ab1cfc8cf69d"
      },
      "outputs": [
        {
          "name": "stdout",
          "output_type": "stream",
          "text": [
            "8/8 [==============================] - 5s 700ms/step\n"
          ]
        }
      ],
      "source": [
        "y_pred = ensemble_model.predict(X_test)\n",
        "fpr, tpr, _ = roc_curve(y_test[:, 0], y_pred[:, 0])\n",
        "roc_auc = auc(fpr, tpr)"
      ]
    },
    {
      "cell_type": "code",
      "execution_count": null,
      "metadata": {
        "colab": {
          "base_uri": "https://localhost:8080/",
          "height": 487
        },
        "id": "5bv87TJjiXNc",
        "outputId": "4ad61730-72f2-423d-dc26-339b242e3973"
      },
      "outputs": [],
      "source": [
        "y_true = np.argmax(y_test, axis=1)\n",
        "y_pred_class = np.argmax(y_pred, axis=1)\n",
        "confusion_mtx = confusion_matrix(y_true, y_pred_class)\n",
        "disp = ConfusionMatrixDisplay(confusion_mtx, display_labels=class_names)\n",
        "disp.plot(cmap=plt.cm.Blues, values_format=\"d\")\n",
        "plt.tight_layout()\n",
        "plt.show()"
      ]
    },
    {
      "cell_type": "code",
      "execution_count": 11,
      "metadata": {
        "colab": {
          "base_uri": "https://localhost:8080/"
        },
        "id": "1LroLyUMjBdu",
        "outputId": "965b07de-91cb-4ea3-dae2-4322ba92457f"
      },
      "outputs": [
        {
          "data": {
            "text/plain": [
              "0.5102880658436214"
            ]
          },
          "execution_count": 11,
          "metadata": {},
          "output_type": "execute_result"
        }
      ],
      "source": [
        "accuracy_score(y_true,y_pred_class)"
      ]
    },
    {
      "cell_type": "code",
      "execution_count": 12,
      "metadata": {
        "colab": {
          "base_uri": "https://localhost:8080/"
        },
        "id": "ku8BsRVujWYk",
        "outputId": "4cb5118a-87a9-4d7f-a576-663c078546d4"
      },
      "outputs": [
        {
          "name": "stdout",
          "output_type": "stream",
          "text": [
            "8/8 [==============================] - 3s 261ms/step - loss: 0.7095 - accuracy: 0.5103\n"
          ]
        }
      ],
      "source": [
        "test_loss, test_acc = ensemble_model.evaluate(X_test, y_test)"
      ]
    },
    {
      "cell_type": "code",
      "execution_count": null,
      "metadata": {
        "colab": {
          "base_uri": "https://localhost:8080/"
        },
        "id": "WHHQ1VbYj7sU",
        "outputId": "7e5cea90-ec00-4c57-8f2e-5a7f05319b65"
      },
      "outputs": [],
      "source": [
        "test_loss, test_acc"
      ]
    },
    {
      "cell_type": "code",
      "execution_count": null,
      "metadata": {
        "colab": {
          "base_uri": "https://localhost:8080/",
          "height": 522
        },
        "id": "-ohtCgRdkVWi",
        "outputId": "b697aad2-49d0-406d-c289-2ff6c9cd8bee"
      },
      "outputs": [],
      "source": [
        "import matplotlib.pyplot as plt\n",
        "from sklearn.metrics import roc_curve, auc, confusion_matrix, ConfusionMatrixDisplay\n",
        "y_pred = ensemble_model.predict(X_test)\n",
        "fpr, tpr, _ = roc_curve(y_test[:, 0], y_pred[:, 0])\n",
        "roc_auc = auc(fpr, tpr)\n",
        "\n",
        "# Plotting ROC curve\n",
        "plt.figure(figsize=(12, 5))\n",
        "plt.subplot(1, 2, 1)\n",
        "plt.plot(fpr, tpr, color='darkorange', lw=2, label='ROC curve (area = %0.2f)' % roc_auc)\n",
        "plt.plot([0, 1], [0, 1], color='navy', lw=2, linestyle='--')\n",
        "plt.xlim([0.0, 1.0])\n",
        "plt.ylim([0.0, 1.05])\n",
        "plt.xlabel('False Positive Rate')\n",
        "plt.ylabel('True Positive Rate')\n",
        "plt.title('Receiver Operating Characteristic')\n",
        "plt.legend(loc='lower right')"
      ]
    },
    {
      "cell_type": "code",
      "execution_count": null,
      "metadata": {
        "colab": {
          "base_uri": "https://localhost:8080/",
          "height": 523
        },
        "id": "tes_Dqu_j-01",
        "outputId": "0032dc85-4572-4f75-a65d-6de82422e627"
      },
      "outputs": [],
      "source": [
        "import numpy as np\n",
        "from tensorflow.keras.preprocessing.image import load_img, img_to_array\n",
        "import matplotlib.pyplot as plt\n",
        "\n",
        "image_path = \"/content/vision_transformer/test/speedbreaker/speedbreaker401.jpg\"\n",
        "img = load_img(image_path, target_size=(224, 224))\n",
        "img_array = img_to_array(img)\n",
        "img_array = img_array / 255.0\n",
        "img_array = np.expand_dims(img_array, axis=0)\n",
        "\n",
        "\n",
        "predictions = ensemble_model.predict(img_array)\n",
        "\n",
        "\n",
        "class_names = [\"Pothole\", \"Speedbreaker\"]\n",
        "\n",
        "predicted_class_index = np.argmax(predictions)\n",
        "predicted_class = class_names[predicted_class_index]\n",
        "confidence_score = predictions[0][predicted_class_index]\n",
        "plt.figure(figsize=(3, 5))\n",
        "plt.subplot(2, 1, 1)\n",
        "plt.imshow(img)\n",
        "plt.axis('off')\n",
        "plt.subplot(2, 1, 2)\n",
        "text = f\"Predicted class: {predicted_class}\\nConfidence: {confidence_score:.2f}\"\n",
        "plt.text(0.5, 0.5, text, fontsize=12, ha='center', va='center')\n",
        "plt.axis('off')\n",
        "\n",
        "plt.tight_layout()\n",
        "plt.show()"
      ]
    }
  ],
  "metadata": {
    "accelerator": "GPU",
    "colab": {
      "gpuType": "T4",
      "provenance": []
    },
    "kernelspec": {
      "display_name": "Python 3",
      "name": "python3"
    },
    "language_info": {
      "name": "python"
    }
  },
  "nbformat": 4,
  "nbformat_minor": 0
}
